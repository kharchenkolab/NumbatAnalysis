{
 "cells": [
  {
   "cell_type": "code",
   "execution_count": 3,
   "id": "concerned-problem",
   "metadata": {},
   "outputs": [
    {
     "name": "stderr",
     "output_type": "stream",
     "text": [
      "\n",
      "Attaching package: ‘dplyr’\n",
      "\n",
      "\n",
      "The following objects are masked from ‘package:data.table’:\n",
      "\n",
      "    between, first, last\n",
      "\n",
      "\n",
      "The following objects are masked from ‘package:stats’:\n",
      "\n",
      "    filter, lag\n",
      "\n",
      "\n",
      "The following objects are masked from ‘package:base’:\n",
      "\n",
      "    intersect, setdiff, setequal, union\n",
      "\n",
      "\n"
     ]
    }
   ],
   "source": [
    "library(data.table)\n",
    "library(dplyr)\n",
    "library(ggplot2)\n",
    "library(glue)"
   ]
  },
  {
   "cell_type": "code",
   "execution_count": 2,
   "id": "eight-parish",
   "metadata": {},
   "outputs": [],
   "source": [
    "library('scphaser')\n",
    "data(marinov)\n",
    "acset = new_acset(\n",
    "    featdata = marinov[['featdata']], refcount = marinov[['refcount']],\n",
    "    altcount = marinov[['altcount']], phenodata = marinov[['phenodata']]\n",
    ")\n",
    "acset = call_gt(acset)\n",
    "acset = filter_acset(acset)\n",
    "# acset = phase(acset)\n",
    "# head(acset[['phasedfeat']])"
   ]
  },
  {
   "cell_type": "code",
   "execution_count": 8,
   "id": "chronic-practice",
   "metadata": {},
   "outputs": [],
   "source": [
    "df = fread(glue('~/external/MDA/TNBC4_N_allele_counts.tsv.gz'), sep = '\\t')"
   ]
  },
  {
   "cell_type": "code",
   "execution_count": 12,
   "id": "substantial-trance",
   "metadata": {},
   "outputs": [],
   "source": [
    "sample = 'TNBC4'\n",
    "cell_annot = fread('~/external/MDA/cell_annot.tsv') %>% \n",
    "    split(.$sample)\n",
    "haplo_truth = readRDS('~/results/benchmark/haplotype_truth.rds')"
   ]
  },
  {
   "cell_type": "code",
   "execution_count": 9,
   "id": "fundamental-asian",
   "metadata": {},
   "outputs": [],
   "source": [
    "normal_cells = cell_annot[['TNBC4']] %>% filter(copykat.pred == 'T') %>% pull(cell)\n",
    "df_normal = df %>% filter(cell %in% normal_cells) %>% filter(!is.na(gene) & gene != '')"
   ]
  },
  {
   "cell_type": "code",
   "execution_count": 13,
   "id": "fancy-evolution",
   "metadata": {},
   "outputs": [],
   "source": [
    "df_chr = df_normal %>%\n",
    "    filter(snp_id %in% haplo_truth$snp_id) %>%\n",
    "    mutate(h_c = ifelse(AD == 0, 0, 1))\n",
    "\n",
    "featdata = df_chr %>% select(feat = gene, var = snp_id, ref = REF, alt = ALT) %>% distinct %>% data.frame()\n",
    "rownames(featdata) = featdata$var\n",
    "phenodata = df_chr %>% select(sample = cell) %>% distinct %>% as.data.frame\n",
    "rownames(phenodata) = phenodata$sample\n",
    "\n",
    "altcount = df_chr %>% dcast(snp_id~cell, value.var = 'AD', fill = 0) %>% tibble::column_to_rownames('snp_id') %>% as.matrix\n",
    "refcount = df_chr %>% mutate(RD = DP - AD) %>% dcast(snp_id~cell, value.var = 'RD', fill = 0) %>% tibble::column_to_rownames('snp_id') %>% as.matrix\n",
    "\n",
    "altcount = altcount[featdata$var,phenodata$sample]\n",
    "refcount = refcount[featdata$var,phenodata$sample]\n",
    "totalcount = (refcount + altcount)"
   ]
  },
  {
   "cell_type": "code",
   "execution_count": 30,
   "id": "biological-brisbane",
   "metadata": {},
   "outputs": [],
   "source": [
    "acset = new_acset(featdata, refcount, altcount, phenodata)\n",
    "acset = filter_feat_nminvar(acset, 2)\n",
    "acset = call_gt(acset, min_acount = 1, fc = 3)"
   ]
  },
  {
   "cell_type": "code",
   "execution_count": 19,
   "id": "everyday-istanbul",
   "metadata": {},
   "outputs": [],
   "source": [
    "acset = phase(acset, input = 'gt', weigh = FALSE, method = 'exhaust', verbosity = 1)"
   ]
  },
  {
   "cell_type": "code",
   "execution_count": 25,
   "id": "creative-judgment",
   "metadata": {},
   "outputs": [],
   "source": [
    "library(BiocParallel)"
   ]
  },
  {
   "cell_type": "code",
   "execution_count": 31,
   "id": "adult-procedure",
   "metadata": {},
   "outputs": [],
   "source": [
    "acset = phase(acset, input = 'ac', weigh = FALSE, method = 'exhaust', verbosity = 1, bp_param = MulticoreParam(workers = 30))"
   ]
  },
  {
   "cell_type": "markdown",
   "id": "checked-paintball",
   "metadata": {},
   "source": [
    "# Evaluate accuracy"
   ]
  },
  {
   "cell_type": "code",
   "execution_count": 27,
   "id": "sustainable-astrology",
   "metadata": {},
   "outputs": [
    {
     "data": {
      "text/plain": [
       "       \n",
       "           A    B\n",
       "  major  267 4961\n",
       "  minor  266 4603"
      ]
     },
     "metadata": {},
     "output_type": "display_data"
    }
   ],
   "source": [
    "acset$phasedfeat %>%\n",
    "inner_join(haplo_truth, by = c('var' = 'snp_id')) %>%\n",
    "mutate(haplo_exp = ifelse(hapA == alt, 'A', 'B')) %>%\n",
    "{table(.$haplo_truth, .$haplo_exp)}"
   ]
  },
  {
   "cell_type": "code",
   "execution_count": 33,
   "id": "guilty-accident",
   "metadata": {},
   "outputs": [
    {
     "data": {
      "text/html": [
       "<table class=\"dataframe\">\n",
       "<caption>A tibble: 1 × 1</caption>\n",
       "<thead>\n",
       "\t<tr><th scope=col>accuracy</th></tr>\n",
       "\t<tr><th scope=col>&lt;dbl&gt;</th></tr>\n",
       "</thead>\n",
       "<tbody>\n",
       "\t<tr><td>0.718</td></tr>\n",
       "</tbody>\n",
       "</table>\n"
      ],
      "text/latex": [
       "A tibble: 1 × 1\n",
       "\\begin{tabular}{l}\n",
       " accuracy\\\\\n",
       " <dbl>\\\\\n",
       "\\hline\n",
       "\t 0.718\\\\\n",
       "\\end{tabular}\n"
      ],
      "text/markdown": [
       "\n",
       "A tibble: 1 × 1\n",
       "\n",
       "| accuracy &lt;dbl&gt; |\n",
       "|---|\n",
       "| 0.718 |\n",
       "\n"
      ],
      "text/plain": [
       "  accuracy\n",
       "1 0.718   "
      ]
     },
     "metadata": {},
     "output_type": "display_data"
    }
   ],
   "source": [
    "acset$phasedfeat %>%\n",
    "inner_join(haplo_truth, by = c('var' = 'snp_id')) %>%\n",
    "mutate(haplo_exp = ifelse(hapA == alt, 'major', 'minor')) %>%\n",
    "mutate(\n",
    "    config = haplo_exp == haplo_truth\n",
    ") %>%\n",
    "rename(gene = feat, snp_id = var) %>%\n",
    "group_by(CHROM, gene) %>%\n",
    "filter(n() > 1) %>%\n",
    "mutate(\n",
    "    switch = c(NA, config[2:length(config)] != config[1:(length(config)-1)])\n",
    ") %>%\n",
    "ungroup() %>%\n",
    "summarise(\n",
    "    accuracy = signif(1-mean(na.omit(switch)),3)\n",
    ")"
   ]
  },
  {
   "cell_type": "code",
   "execution_count": 21,
   "id": "bored-context",
   "metadata": {},
   "outputs": [
    {
     "data": {
      "text/html": [
       "<table class=\"dataframe\">\n",
       "<caption>A tibble: 1 × 1</caption>\n",
       "<thead>\n",
       "\t<tr><th scope=col>accuracy</th></tr>\n",
       "\t<tr><th scope=col>&lt;dbl&gt;</th></tr>\n",
       "</thead>\n",
       "<tbody>\n",
       "\t<tr><td>0.718</td></tr>\n",
       "</tbody>\n",
       "</table>\n"
      ],
      "text/latex": [
       "A tibble: 1 × 1\n",
       "\\begin{tabular}{l}\n",
       " accuracy\\\\\n",
       " <dbl>\\\\\n",
       "\\hline\n",
       "\t 0.718\\\\\n",
       "\\end{tabular}\n"
      ],
      "text/markdown": [
       "\n",
       "A tibble: 1 × 1\n",
       "\n",
       "| accuracy &lt;dbl&gt; |\n",
       "|---|\n",
       "| 0.718 |\n",
       "\n"
      ],
      "text/plain": [
       "  accuracy\n",
       "1 0.718   "
      ]
     },
     "metadata": {},
     "output_type": "display_data"
    }
   ],
   "source": [
    "acset$phasedfeat %>%\n",
    "inner_join(haplo_truth, by = c('var' = 'snp_id')) %>%\n",
    "mutate(haplo_exp = ifelse(hapA == alt, 'major', 'minor')) %>%\n",
    "mutate(\n",
    "    config = haplo_exp == haplo_truth\n",
    ") %>%\n",
    "rename(gene = feat, snp_id = var) %>%\n",
    "group_by(CHROM, gene) %>%\n",
    "filter(n() > 1) %>%\n",
    "mutate(\n",
    "    switch = c(NA, config[2:length(config)] != config[1:(length(config)-1)])\n",
    ") %>%\n",
    "ungroup() %>%\n",
    "summarise(\n",
    "    accuracy = signif(1-mean(na.omit(switch)),3)\n",
    ")"
   ]
  },
  {
   "cell_type": "code",
   "execution_count": 22,
   "id": "handled-investment",
   "metadata": {},
   "outputs": [
    {
     "data": {
      "text/html": [
       "<table class=\"dataframe\">\n",
       "<caption>A tibble: 1 × 1</caption>\n",
       "<thead>\n",
       "\t<tr><th scope=col>accuracy</th></tr>\n",
       "\t<tr><th scope=col>&lt;dbl&gt;</th></tr>\n",
       "</thead>\n",
       "<tbody>\n",
       "\t<tr><td>0.5177206</td></tr>\n",
       "</tbody>\n",
       "</table>\n"
      ],
      "text/latex": [
       "A tibble: 1 × 1\n",
       "\\begin{tabular}{l}\n",
       " accuracy\\\\\n",
       " <dbl>\\\\\n",
       "\\hline\n",
       "\t 0.5177206\\\\\n",
       "\\end{tabular}\n"
      ],
      "text/markdown": [
       "\n",
       "A tibble: 1 × 1\n",
       "\n",
       "| accuracy &lt;dbl&gt; |\n",
       "|---|\n",
       "| 0.5177206 |\n",
       "\n"
      ],
      "text/plain": [
       "  accuracy \n",
       "1 0.5177206"
      ]
     },
     "metadata": {},
     "output_type": "display_data"
    }
   ],
   "source": [
    "acset$phasedfeat %>%\n",
    "inner_join(haplo_truth, by = c('var' = 'snp_id')) %>%\n",
    "mutate(haplo_exp = ifelse(hapA == alt, 'major', 'minor')) %>%\n",
    "mutate(\n",
    "    config = haplo_exp == haplo_truth\n",
    ") %>%\n",
    "rename(gene = feat, snp_id = var) %>%\n",
    "group_by(CHROM, gene) %>%\n",
    "filter(row_number() == 1 | row_number() == n()) %>%\n",
    "group_by(CHROM) %>%\n",
    "mutate(\n",
    "    switch = c(NA, config[2:length(config)] != config[1:(length(config)-1)])\n",
    ") %>%\n",
    "group_by(CHROM, gene) %>%\n",
    "filter(row_number() == 1) %>%\n",
    "ungroup() %>%\n",
    "summarise(\n",
    "    accuracy = 1-mean(na.omit(switch))\n",
    ")"
   ]
  },
  {
   "cell_type": "code",
   "execution_count": 351,
   "id": "large-movie",
   "metadata": {},
   "outputs": [
    {
     "data": {
      "text/plain": [
       "       \n",
       "        FALSE TRUE\n",
       "  FALSE  1090   14\n",
       "  TRUE     84    4"
      ]
     },
     "metadata": {},
     "output_type": "display_data"
    }
   ],
   "source": [
    "snp_x = '3_3128394_C_G'\n",
    "snp_y = '3_3129282_T_C'\n",
    "\n",
    "table(totalcount[snp_x,] > 0, totalcount[snp_y,] > 0)"
   ]
  },
  {
   "cell_type": "code",
   "execution_count": 391,
   "id": "cognitive-hygiene",
   "metadata": {},
   "outputs": [
    {
     "data": {
      "text/plain": [
       "\n",
       "\tFisher's Exact Test for Count Data\n",
       "\n",
       "data:  table(totalcount[snp_x, ] > 0, totalcount[snp_y, ] > 0)\n",
       "p-value = 0.03814\n",
       "alternative hypothesis: true odds ratio is not equal to 1\n",
       "95 percent confidence interval:\n",
       "  0.8677564 12.1331775\n",
       "sample estimates:\n",
       "odds ratio \n",
       "  3.700456 \n"
      ]
     },
     "metadata": {},
     "output_type": "display_data"
    }
   ],
   "source": [
    "fisher.test(table(totalcount[snp_x,] > 0, totalcount[snp_y,] > 0))"
   ]
  },
  {
   "cell_type": "code",
   "execution_count": 519,
   "id": "olympic-benjamin",
   "metadata": {},
   "outputs": [],
   "source": [
    "n = nrow(totalcount)\n",
    "# n = 5\n",
    "\n",
    "joint_counts = sapply(\n",
    "    1:(n-1),\n",
    "    function(i) {sum(totalcount[i,] > 0 & totalcount[i+1,] > 0)}\n",
    ")"
   ]
  },
  {
   "cell_type": "code",
   "execution_count": 463,
   "id": "bulgarian-nicholas",
   "metadata": {},
   "outputs": [],
   "source": [
    "calc_binom_p = function(snp_x, snp_y, df) {\n",
    "    \n",
    "    counts = df_chr %>%\n",
    "        filter(snp_id %in% c(snp_x, snp_y)) %>%\n",
    "        group_by(cell) %>%\n",
    "        filter(n() > 1) \n",
    "    \n",
    "    if (nrow(counts) > 0) {\n",
    "        res = counts %>%\n",
    "            reshape2::dcast(cell ~ snp_index, value.var = 'h_c') %>%\n",
    "            setNames(c('cell', 'snp_x', 'snp_y')) %>%\n",
    "            mutate(\n",
    "                snp_x = as.integer(snp_x),\n",
    "                snp_y = as.integer(snp_y),\n",
    "                cis = snp_x == snp_y\n",
    "            ) %>%\n",
    "            summarise(p = binom.test(x = sum(cis), n = n())$p.value)\n",
    "        return(res$p)\n",
    "    }\n",
    "    \n",
    "}"
   ]
  },
  {
   "cell_type": "code",
   "execution_count": 468,
   "id": "light-portal",
   "metadata": {},
   "outputs": [
    {
     "data": {
      "text/html": [
       "'3_3128394_C_G'"
      ],
      "text/latex": [
       "'3\\_3128394\\_C\\_G'"
      ],
      "text/markdown": [
       "'3_3128394_C_G'"
      ],
      "text/plain": [
       "[1] \"3_3128394_C_G\""
      ]
     },
     "metadata": {},
     "output_type": "display_data"
    }
   ],
   "source": [
    "snp_x"
   ]
  },
  {
   "cell_type": "code",
   "execution_count": 503,
   "id": "compliant-update",
   "metadata": {},
   "outputs": [],
   "source": [
    "i = 4\n",
    "counts = altcount[c(i,i+1),totalcount[i,] > 0 & totalcount[i+1,] > 0]\n",
    "configs = counts[1,] == counts[2,]"
   ]
  },
  {
   "cell_type": "code",
   "execution_count": 510,
   "id": "assigned-africa",
   "metadata": {},
   "outputs": [],
   "source": [
    "n = nrow(totalcount)-1\n",
    "\n",
    "pvals = sapply(\n",
    "    1:(n-1),\n",
    "    function(i) {\n",
    "        counts = altcount[c(i,i+1),totalcount[i,] > 0 & totalcount[i+1,] > 0, drop = F]\n",
    "        if (length(counts) > 0) {\n",
    "            configs = counts[1,] == counts[2,]\n",
    "            binom.test(sum(configs), length(configs))$p.value   \n",
    "        } else {\n",
    "            return(1)\n",
    "        }\n",
    "    }\n",
    ")"
   ]
  },
  {
   "cell_type": "code",
   "execution_count": 517,
   "id": "auburn-dimension",
   "metadata": {},
   "outputs": [
    {
     "data": {
      "text/html": [
       "13873"
      ],
      "text/latex": [
       "13873"
      ],
      "text/markdown": [
       "13873"
      ],
      "text/plain": [
       "[1] 13873"
      ]
     },
     "metadata": {},
     "output_type": "display_data"
    }
   ],
   "source": [
    "joint_counts %>% length"
   ]
  },
  {
   "cell_type": "code",
   "execution_count": 518,
   "id": "accompanied-horror",
   "metadata": {},
   "outputs": [
    {
     "data": {
      "text/html": [
       "10864"
      ],
      "text/latex": [
       "10864"
      ],
      "text/markdown": [
       "10864"
      ],
      "text/plain": [
       "[1] 10864"
      ]
     },
     "metadata": {},
     "output_type": "display_data"
    }
   ],
   "source": [
    "pvals %>% length"
   ]
  },
  {
   "cell_type": "code",
   "execution_count": 521,
   "id": "confidential-occupation",
   "metadata": {},
   "outputs": [
    {
     "data": {
      "text/html": [
       "0.159779107225035"
      ],
      "text/latex": [
       "0.159779107225035"
      ],
      "text/markdown": [
       "0.159779107225035"
      ],
      "text/plain": [
       "[1] 0.1597791"
      ]
     },
     "metadata": {},
     "output_type": "display_data"
    }
   ],
   "source": [
    "mean(joint_counts > 1)"
   ]
  },
  {
   "cell_type": "code",
   "execution_count": 514,
   "id": "aerial-perth",
   "metadata": {},
   "outputs": [
    {
     "data": {
      "text/html": [
       "0.055320324005891"
      ],
      "text/latex": [
       "0.055320324005891"
      ],
      "text/markdown": [
       "0.055320324005891"
      ],
      "text/plain": [
       "[1] 0.05532032"
      ]
     },
     "metadata": {},
     "output_type": "display_data"
    }
   ],
   "source": [
    "mean(pvals < 0.05)"
   ]
  },
  {
   "cell_type": "code",
   "execution_count": 386,
   "id": "coral-property",
   "metadata": {},
   "outputs": [
    {
     "name": "stderr",
     "output_type": "stream",
     "text": [
      "`stat_bin()` using `bins = 30`. Pick better value with `binwidth`.\n",
      "\n",
      "Warning message:\n",
      "“Removed 38 rows containing non-finite values (stat_bin).”\n",
      "Warning message:\n",
      "“Removed 1 rows containing missing values (geom_bar).”\n"
     ]
    },
    {
     "data": {
      "image/png": "[encoded data removed]",
      "text/plain": [
       "plot without title"
      ]
     },
     "metadata": {
      "image/png": {
       "height": 300,
       "width": 500
      }
     },
     "output_type": "display_data"
    }
   ],
   "source": [
    "options(repr.plot.width = 5, repr.plot.height = 3, repr.plot.res = 200)\n",
    "\n",
    "data.frame(cov = joint_counts) %>%\n",
    "ggplot(aes(x = cov)) +\n",
    "geom_histogram() +\n",
    "xlim(NA,100)"
   ]
  },
  {
   "cell_type": "code",
   "execution_count": 390,
   "id": "significant-kentucky",
   "metadata": {},
   "outputs": [
    {
     "data": {
      "text/html": [
       "0.200317162834282"
      ],
      "text/latex": [
       "0.200317162834282"
      ],
      "text/markdown": [
       "0.200317162834282"
      ],
      "text/plain": [
       "[1] 0.2003172"
      ]
     },
     "metadata": {},
     "output_type": "display_data"
    }
   ],
   "source": [
    "mean(joint_counts > 1)"
   ]
  }
 ],
 "metadata": {
  "kernelspec": {
   "display_name": "R",
   "language": "R",
   "name": "ir"
  },
  "language_info": {
   "codemirror_mode": "r",
   "file_extension": ".r",
   "mimetype": "text/x-r-source",
   "name": "R",
   "pygments_lexer": "r",
   "version": "4.1.2"
  }
 },
 "nbformat": 4,
 "nbformat_minor": 5
}
